{
 "cells": [
  {
   "cell_type": "markdown",
   "metadata": {},
   "source": [
    "# Advanced Lane Finding Project\n",
    "\n",
    "The goals / steps of this project are the following:\n",
    "\n",
    "* Compute the camera calibration matrix and distortion coefficients given a set of chessboard images.\n",
    "* Apply a distortion correction to raw images.\n",
    "* Use color transforms, gradients, etc., to create a thresholded binary image.\n",
    "* Apply a perspective transform to rectify binary image (\"birds-eye view\").\n",
    "* Detect lane pixels and fit to find the lane boundary.\n",
    "* Determine the curvature of the lane and vehicle position with respect to center.\n",
    "* Warp the detected lane boundaries back onto the original image.\n",
    "* Output visual display of the lane boundaries and numerical estimation of lane curvature and vehicle position."
   ]
  },
  {
   "cell_type": "markdown",
   "metadata": {},
   "source": [
    "## 1. Compute the camera calibration using chessboard images"
   ]
  },
  {
   "cell_type": "code",
   "execution_count": null,
   "metadata": {},
   "outputs": [],
   "source": [
    "import numpy as np\n",
    "import cv2\n",
    "import glob\n",
    "import matplotlib.pyplot as plt\n",
    "import matplotlib.image as mpimg\n",
    "%matplotlib inline\n",
    "from moviepy.editor import VideoFileClip\n",
    "from moviepy.editor import ImageSequenceClip\n",
    "from IPython.display import HTML"
   ]
  },
  {
   "cell_type": "code",
   "execution_count": null,
   "metadata": {},
   "outputs": [],
   "source": [
    "def load_and_cal_chess_points(file_path):\n",
    "    # prepare object points, like (0,0,0), (1,0,0), (2,0,0) ....,(6,5,0)\n",
    "    objp = np.zeros((6*9,3), np.float32)\n",
    "    objp[:,:2] = np.mgrid[0:9,0:6].T.reshape(-1,2)\n",
    "\n",
    "    # Arrays to store object points and image points from all the images.\n",
    "    objpoints = [] # 3d points in real world space\n",
    "    imgpoints = [] # 2d points in image plane.\n",
    "    correct_imgs = []\n",
    "\n",
    "    # Make a list of calibration images\n",
    "    images = glob.glob(file_path + '/calibration*.jpg')\n",
    "\n",
    "    # Step through the list and search for chessboard corners\n",
    "    for fname in images:\n",
    "        img = cv2.imread(fname)\n",
    "\n",
    "        gray = cv2.cvtColor(img,cv2.COLOR_BGR2GRAY)\n",
    "\n",
    "        # Find the chessboard corners\n",
    "        ret, corners = cv2.findChessboardCorners(gray, (9,6),None)\n",
    "\n",
    "        # If found, add object points, image points\n",
    "        if ret == True:\n",
    "            objpoints.append(objp)\n",
    "            imgpoints.append(corners)\n",
    "            correct_imgs.append(img)\n",
    "    return correct_imgs, objpoints, imgpoints"
   ]
  },
  {
   "cell_type": "markdown",
   "metadata": {},
   "source": [
    "## 2. Undistort image with chessboard points "
   ]
  },
  {
   "cell_type": "code",
   "execution_count": null,
   "metadata": {},
   "outputs": [],
   "source": [
    "def cal_undistort(img, objpoints, imgpoints):\n",
    "    # Use cv2.calibrateCamera() and cv2.undistort()\n",
    "    gray = cv2.cvtColor(img,cv2.COLOR_BGR2GRAY)\n",
    "    ret, mtx, dist, rvecs, tvecs = cv2.calibrateCamera(objpoints, imgpoints, gray.shape[::-1], None, None)\n",
    "    undist = cv2.undistort(img, mtx, dist, None, mtx)\n",
    "    return undist"
   ]
  },
  {
   "cell_type": "code",
   "execution_count": null,
   "metadata": {},
   "outputs": [],
   "source": [
    "correct_imgs, objpoints, imgpoints = load_and_cal_chess_points('./camera_cal/')"
   ]
  },
  {
   "cell_type": "code",
   "execution_count": null,
   "metadata": {
    "scrolled": true
   },
   "outputs": [],
   "source": [
    "for img in correct_imgs:\n",
    "    undistorted = cal_undistort(img, objpoints, imgpoints)\n",
    "    \n",
    "    plt.figure()\n",
    "    f, (ax1, ax2) = plt.subplots(1, 2, figsize=(24, 9))\n",
    "    f.tight_layout()\n",
    "    ax1.imshow(img)\n",
    "    ax1.set_title('Original Image', fontsize=50)\n",
    "    ax2.imshow(undistorted)\n",
    "    ax2.set_title('Undistorted Image', fontsize=50)\n",
    "    plt.subplots_adjust(left=0., right=1, top=0.9, bottom=0.)"
   ]
  },
  {
   "cell_type": "markdown",
   "metadata": {},
   "source": [
    "## 3. Transform image to HLS color space and use x gradient to create a thresholded binary image"
   ]
  },
  {
   "cell_type": "code",
   "execution_count": null,
   "metadata": {},
   "outputs": [],
   "source": [
    "def color_and_gradient_threshold(img, s_thresh=(90, 255), sx_thresh=(20, 100)):\n",
    "    img = np.copy(img)\n",
    "    # Convert to HLS color space and separate the V channel\n",
    "    hls = cv2.cvtColor(img, cv2.COLOR_RGB2HLS).astype(np.float)\n",
    "    h_channel = hls[:,:,0]\n",
    "    l_channel = hls[:,:,1]\n",
    "    s_channel = hls[:,:,2]\n",
    "    # Sobel x\n",
    "    sobelx = cv2.Sobel(l_channel, cv2.CV_64F, 1, 0) # Take the derivative in x\n",
    "    abs_sobelx = np.absolute(sobelx) # Absolute x derivative to accentuate lines away from horizontal\n",
    "    scaled_sobel = np.uint8(255*abs_sobelx/np.max(abs_sobelx))\n",
    "    \n",
    "    # Threshold x gradient\n",
    "    sxbinary = np.zeros_like(scaled_sobel)\n",
    "    sxbinary[(scaled_sobel >= sx_thresh[0]) & (scaled_sobel <= sx_thresh[1])] = 1\n",
    "    \n",
    "    # Threshold color channel\n",
    "    s_binary = np.zeros_like(s_channel)\n",
    "    s_binary[(s_channel >= s_thresh[0]) & (s_channel <= s_thresh[1])] = 1\n",
    "    # Stack each channel\n",
    "    # Note color_binary[:, :, 0] is all 0s, effectively an all black image. It might\n",
    "    # be beneficial to replace this channel with something else.\n",
    "    color_binary = np.dstack(( np.zeros_like(sxbinary), sxbinary, s_binary)) * 255\n",
    "    \n",
    "    combined_binary = np.zeros_like(sxbinary)\n",
    "    combined_binary[(s_binary == 1) | (sxbinary == 1)] = 1\n",
    "    return color_binary, combined_binary"
   ]
  },
  {
   "cell_type": "markdown",
   "metadata": {
    "collapsed": true
   },
   "source": [
    "## 4. Perspective transform image to birdeye view"
   ]
  },
  {
   "cell_type": "code",
   "execution_count": null,
   "metadata": {},
   "outputs": [],
   "source": [
    "def warp(img):\n",
    "    img_size = (img.shape[1], img.shape[0])\n",
    "    src = np.float32([\n",
    "        [685,450],\n",
    "        [1100,720],\n",
    "        [200,720],\n",
    "        [595,450]\n",
    "    ])\n",
    "    dst = np.float32([\n",
    "        [950,0],\n",
    "        [950,720],\n",
    "        [350,720],\n",
    "        [350,0]\n",
    "    ])\n",
    "    M = cv2.getPerspectiveTransform(src, dst)\n",
    "    Minv = cv2.getPerspectiveTransform(dst, src)\n",
    "    warped = cv2.warpPerspective(img, M, img_size, flags=cv2.INTER_LINEAR)\n",
    "    return warped, Minv"
   ]
  },
  {
   "cell_type": "markdown",
   "metadata": {},
   "source": [
    "## 5. Find lanes with histogram and sliding window"
   ]
  },
  {
   "cell_type": "code",
   "execution_count": null,
   "metadata": {},
   "outputs": [],
   "source": [
    "def hist_and_slide_window(binary_warped):\n",
    "    # Assuming you have created a warped binary image called \"binary_warped\"\n",
    "    # Take a histogram of the bottom half of the image\n",
    "    histogram = np.sum(binary_warped[int(binary_warped.shape[0]/2):,:], axis=0)\n",
    "    # Create an output image to draw on and  visualize the result\n",
    "    out_img = np.dstack((binary_warped, binary_warped, binary_warped))*255\n",
    "    # Find the peak of the left and right halves of the histogram\n",
    "    # These will be the starting point for the left and right lines\n",
    "    midpoint = np.int(histogram.shape[0]/2)\n",
    "    leftx_base = np.argmax(histogram[:midpoint])\n",
    "    rightx_base = np.argmax(histogram[midpoint:]) + midpoint\n",
    "\n",
    "    # Choose the number of sliding windows\n",
    "    nwindows = 9\n",
    "    # Set height of windows\n",
    "    window_height = np.int(binary_warped.shape[0]/nwindows)\n",
    "    # Identify the x and y positions of all nonzero pixels in the image\n",
    "    nonzero = binary_warped.nonzero()\n",
    "    nonzeroy = np.array(nonzero[0])\n",
    "    nonzerox = np.array(nonzero[1])\n",
    "    # Current positions to be updated for each window\n",
    "    leftx_current = leftx_base\n",
    "    rightx_current = rightx_base\n",
    "    # Set the width of the windows +/- margin\n",
    "    margin = 100\n",
    "    # Set minimum number of pixels found to recenter window\n",
    "    minpix = 50\n",
    "    # Create empty lists to receive left and right lane pixel indices\n",
    "    left_lane_inds = []\n",
    "    right_lane_inds = []\n",
    "\n",
    "    # Step through the windows one by one\n",
    "    for window in range(nwindows):\n",
    "        # Identify window boundaries in x and y (and right and left)\n",
    "        win_y_low = binary_warped.shape[0] - (window+1)*window_height\n",
    "        win_y_high = binary_warped.shape[0] - window*window_height\n",
    "        win_xleft_low = leftx_current - margin\n",
    "        win_xleft_high = leftx_current + margin\n",
    "        win_xright_low = rightx_current - margin\n",
    "        win_xright_high = rightx_current + margin\n",
    "        # Draw the windows on the visualization image\n",
    "        cv2.rectangle(out_img,(win_xleft_low,win_y_low),(win_xleft_high,win_y_high),\n",
    "        (0,255,0), 2) \n",
    "        cv2.rectangle(out_img,(win_xright_low,win_y_low),(win_xright_high,win_y_high),\n",
    "        (0,255,0), 2) \n",
    "        # Identify the nonzero pixels in x and y within the window\n",
    "        good_left_inds = ((nonzeroy >= win_y_low) & (nonzeroy < win_y_high) & \n",
    "        (nonzerox >= win_xleft_low) &  (nonzerox < win_xleft_high)).nonzero()[0]\n",
    "        good_right_inds = ((nonzeroy >= win_y_low) & (nonzeroy < win_y_high) & \n",
    "        (nonzerox >= win_xright_low) &  (nonzerox < win_xright_high)).nonzero()[0]\n",
    "        # Append these indices to the lists\n",
    "        left_lane_inds.append(good_left_inds)\n",
    "        right_lane_inds.append(good_right_inds)\n",
    "        # If you found > minpix pixels, recenter next window on their mean position\n",
    "        if len(good_left_inds) > minpix:\n",
    "            leftx_current = np.int(np.mean(nonzerox[good_left_inds]))\n",
    "        if len(good_right_inds) > minpix:        \n",
    "            rightx_current = np.int(np.mean(nonzerox[good_right_inds]))\n",
    "\n",
    "    # Concatenate the arrays of indices\n",
    "    left_lane_inds = np.concatenate(left_lane_inds)\n",
    "    right_lane_inds = np.concatenate(right_lane_inds)\n",
    "\n",
    "    # Extract left and right line pixel positions\n",
    "    leftx = nonzerox[left_lane_inds]\n",
    "    lefty = nonzeroy[left_lane_inds] \n",
    "    rightx = nonzerox[right_lane_inds]\n",
    "    righty = nonzeroy[right_lane_inds] \n",
    "    return out_img, leftx, lefty, rightx, righty\n"
   ]
  },
  {
   "cell_type": "markdown",
   "metadata": {},
   "source": [
    "## 6. Measure curve rad in pixel space and real world space"
   ]
  },
  {
   "cell_type": "code",
   "execution_count": null,
   "metadata": {},
   "outputs": [],
   "source": [
    "def fit_curve(warpped_img, leftx, lefty, rightx, righty):\n",
    "    # Fit a second order polynomial to each\n",
    "    left_fit = np.polyfit(lefty, leftx, 2)\n",
    "    right_fit = np.polyfit(righty, rightx, 2)\n",
    "\n",
    "    ploty = np.linspace(0, warpped_img.shape[0]-1, warpped_img.shape[0] )\n",
    "    left_fitx = left_fit[0]*ploty**2 + left_fit[1]*ploty + left_fit[2]\n",
    "    right_fitx = right_fit[0]*ploty**2 + right_fit[1]*ploty + right_fit[2]\n",
    "    return left_fit, right_fit, left_fitx, right_fitx, ploty\n",
    "\n",
    "\n",
    "def plot_curve(out_img, leftx, lefty, rightx, righty, left_fitx, right_fitx, ploty):\n",
    "    plt.figure()\n",
    "    out_img[lefty, leftx] = [255, 0, 0]\n",
    "    out_img[righty, rightx] = [0, 0, 255]\n",
    "    plt.imshow(out_img)\n",
    "    plt.plot(left_fitx, ploty, color='yellow')\n",
    "    plt.plot(right_fitx, ploty, color='yellow')\n",
    "    plt.xlim(0, 1280)\n",
    "    plt.ylim(720, 0)\n",
    "    plt.title(\"Curve\", fontsize=30)\n",
    "\n",
    "\n",
    "def cal_curverad(left_fit, right_fit, leftx, lefty, rightx, righty, ploty):\n",
    "    result = []\n",
    "    y_eval = np.max(ploty)\n",
    "    left_curverad = ((1 + (2*left_fit[0]*y_eval + left_fit[1])**2)**1.5) / np.absolute(2*left_fit[0])\n",
    "    right_curverad = ((1 + (2*right_fit[0]*y_eval + right_fit[1])**2)**1.5) / np.absolute(2*right_fit[0])\n",
    "    result.append(\"Pixel curverad left %.2f right %.2f\" % (left_curverad, right_curverad))\n",
    "    \n",
    "    # Define conversions in x and y from pixels space to meters\n",
    "    ym_per_pix = 30.0/720 # meters per pixel in y dimension\n",
    "    xm_per_pix = 3.7/600 # meters per pixel in x dimension\n",
    "\n",
    "    # Fit new polynomials to x,y in world space\n",
    "    left_fit_cr = np.polyfit(lefty*ym_per_pix, leftx*xm_per_pix, 2)\n",
    "    right_fit_cr = np.polyfit(righty*ym_per_pix, rightx*xm_per_pix, 2)\n",
    "    # Calculate the new radii of curvature\n",
    "    left_curverad = ((1 + (2*left_fit_cr[0]*y_eval*ym_per_pix + left_fit_cr[1])**2)**1.5) / np.absolute(2*left_fit_cr[0])\n",
    "    right_curverad = ((1 + (2*right_fit_cr[0]*y_eval*ym_per_pix + right_fit_cr[1])**2)**1.5) / np.absolute(2*right_fit_cr[0])\n",
    "    # Now our radius of curvature is in meters\n",
    "    result.append(\"Meter curverad left %.2fm right %.2fm\" % (left_curverad, right_curverad))\n",
    "    # Example values: 632.1 m    626.2 m\n",
    "    \n",
    "    center_xm = xm_per_pix * 1280 / 2\n",
    "    left_xm = left_fit_cr[0]*((y_eval*ym_per_pix)**2) + left_fit_cr[1]*y_eval*ym_per_pix + left_fit_cr[2]\n",
    "    right_xm = right_fit_cr[0]*((y_eval*ym_per_pix)**2) + right_fit_cr[1]*y_eval*ym_per_pix + right_fit_cr[2]\n",
    "    position = (left_xm + right_xm) / 2 - center_xm\n",
    "    if position >= 0:\n",
    "        result.append(\"Vehicle is %.2fm to the left\" % position)\n",
    "    else:\n",
    "        result.append(\"Vehicle is %.2fm to the right\" % -position)\n",
    "    result_string = '\\n'.join(result)\n",
    "#     print(result_string)\n",
    "    return result_string, left_curverad, right_curverad"
   ]
  },
  {
   "cell_type": "markdown",
   "metadata": {},
   "source": [
    "## 7. Draw curve on original image"
   ]
  },
  {
   "cell_type": "code",
   "execution_count": null,
   "metadata": {},
   "outputs": [],
   "source": [
    "def draw_curve_on_image(image, undist, warped, Minv, left_fitx, right_fitx, ploty):\n",
    "    # Create an image to draw the lines on\n",
    "    warp_zero = np.zeros_like(warped).astype(np.uint8)\n",
    "    color_warp = np.dstack((warp_zero, warp_zero, warp_zero))\n",
    "\n",
    "    # Recast the x and y points into usable format for cv2.fillPoly()\n",
    "    pts_left = np.array([np.transpose(np.vstack([left_fitx, ploty]))])\n",
    "    pts_right = np.array([np.flipud(np.transpose(np.vstack([right_fitx, ploty])))])\n",
    "    pts = np.hstack((pts_left, pts_right))\n",
    "\n",
    "    # Draw the lane onto the warped blank image\n",
    "    cv2.fillPoly(color_warp, np.int_([pts]), (0,255, 0))\n",
    "\n",
    "    # Warp the blank back to original image space using inverse perspective matrix (Minv)\n",
    "    newwarp = cv2.warpPerspective(color_warp, Minv, (image.shape[1], image.shape[0])) \n",
    "    # Combine the result with the original image\n",
    "    result = cv2.addWeighted(undist, 1, newwarp, 0.3, 0)\n",
    "    return result"
   ]
  },
  {
   "cell_type": "markdown",
   "metadata": {},
   "source": [
    "## Pipeline"
   ]
  },
  {
   "cell_type": "code",
   "execution_count": null,
   "metadata": {},
   "outputs": [],
   "source": [
    "def process_image(image):\n",
    "    undist = cal_undistort(image, objpoints, imgpoints)\n",
    "    color_binary, combined_binary = color_and_gradient_threshold(undist, s_thresh=(90, 255), sx_thresh=(20, 100))\n",
    "    warpped_img, Minv = warp(combined_binary)\n",
    "\n",
    "#     plt.figure()\n",
    "#     plt.imshow(image)\n",
    "#     plt.title(\"Original\", fontsize=30)\n",
    "    \n",
    "#     plt.figure()\n",
    "#     plt.imshow(undist)\n",
    "#     plt.title(\"Undist\", fontsize=30)\n",
    "\n",
    "    plt.figure()\n",
    "    plt.imshow(color_binary[:, :, 1], cmap=\"gray\")\n",
    "    plt.title(\"xGradient Binary\", fontsize=30)\n",
    "    \n",
    "    plt.figure()\n",
    "    plt.imshow(color_binary[:, :, 2], cmap=\"gray\")\n",
    "    plt.title(\"Color Binary\", fontsize=30)\n",
    "    \n",
    "    plt.figure()\n",
    "    plt.imshow(combined_binary, cmap=\"gray\")\n",
    "    plt.title(\"Binary\", fontsize=30)\n",
    "\n",
    "#     plt.figure()\n",
    "#     plt.imshow(warpped_img, cmap=\"gray\")\n",
    "#     plt.title(\"Warpped\", fontsize=30)\n",
    "    \n",
    "    out_img, leftx, lefty, rightx, righty = hist_and_slide_window(warpped_img)\n",
    "    left_fit, right_fit, left_fitx, right_fitx, ploty = fit_curve(warpped_img, leftx, lefty, rightx, righty)\n",
    "    \n",
    "#     plot_curve(out_img, leftx, lefty, rightx, righty, left_fitx, right_fitx, ploty)\n",
    "    result_string, left_curverad, right_curverad = cal_curverad(left_fit, right_fit, leftx, lefty, rightx, righty, ploty)\n",
    "#     print(left_fitx)\n",
    "#     print(right_fitx)\n",
    "#     print(ploty)\n",
    "    result = draw_curve_on_image(image, undist, warpped_img, Minv, left_fitx, right_fitx, ploty)\n",
    "    \n",
    "    plt.figure()\n",
    "    plt.imshow(result)\n",
    "    plt.annotate(result_string, xy=(0.05, 0.80), xycoords='axes fraction')\n",
    "    return result"
   ]
  },
  {
   "cell_type": "markdown",
   "metadata": {},
   "source": [
    "## Process images for testing purpose"
   ]
  },
  {
   "cell_type": "code",
   "execution_count": null,
   "metadata": {
    "scrolled": true
   },
   "outputs": [],
   "source": [
    "images = glob.glob('./test_images/test2.jpg')\n",
    "for image_path in images:\n",
    "    image = mpimg.imread(image_path)\n",
    "#     print(image)\n",
    "    process_image(image)"
   ]
  },
  {
   "cell_type": "markdown",
   "metadata": {},
   "source": [
    "## Draw curve lane area on video"
   ]
  },
  {
   "cell_type": "code",
   "execution_count": null,
   "metadata": {
    "scrolled": true
   },
   "outputs": [],
   "source": [
    "def process_clip(clip1):\n",
    "    cnt = 0\n",
    "    new_frames = []\n",
    "    left_smooth = []\n",
    "    right_smooth = []\n",
    "    smooth_num = 8\n",
    "    skip_cnt = 0\n",
    "\n",
    "    for image in clip1.iter_frames(fps=25,dtype='uint8',progress_bar=True):\n",
    "\n",
    "        undist = cal_undistort(image, objpoints, imgpoints)\n",
    "        color_binary, combined_binary = color_and_gradient_threshold(undist, s_thresh=(90, 255))\n",
    "        warpped_img, Minv = warp(combined_binary)\n",
    "        out_img, leftx, lefty, rightx, righty = hist_and_slide_window(warpped_img)\n",
    "        left_fit, right_fit, left_fitx, right_fitx, ploty = fit_curve(warpped_img, leftx, lefty, rightx, righty)\n",
    "        result_string, left_curverad, right_curverad = cal_curverad(left_fit, right_fit, leftx, lefty, rightx, righty, ploty)\n",
    "        \n",
    "        if cnt < smooth_num:\n",
    "            left_smooth.append(left_fitx)\n",
    "            right_smooth.append(right_fitx)\n",
    "            cnt += 1\n",
    "            continue\n",
    "        \n",
    "        # sanity check, if current lane position shifted too much(20%), skip current one \n",
    "        left_std = np.mean(left_smooth)\n",
    "        right_std = np.mean(right_smooth)\n",
    "        if (abs(np.mean(left_fitx)-left_std) / left_std < 0.2) and (abs(np.mean(right_fitx)-right_std) / right_std < 0.2):\n",
    "            left_smooth.append(left_fitx)\n",
    "            right_smooth.append(right_fitx)\n",
    "        else:\n",
    "            left_smooth.append(left_smooth[-1])\n",
    "            right_smooth.append(right_smooth[-1])\n",
    "            skip_cnt += 1\n",
    "\n",
    "        left_mean = np.mean(left_smooth, axis=0)\n",
    "        right_mean = np.mean(right_smooth, axis=0)\n",
    "\n",
    "        result = draw_curve_on_image(image, undist, warpped_img, Minv, left_mean, right_mean, ploty)\n",
    "        new_frames.append(result)\n",
    "\n",
    "        left_smooth.pop(0)\n",
    "        right_smooth.pop(0)\n",
    "    print(\"%d frames are skipped.\" % skip_cnt)\n",
    "    return new_frames"
   ]
  },
  {
   "cell_type": "code",
   "execution_count": null,
   "metadata": {},
   "outputs": [],
   "source": [
    "white_output = './project_video_output.mp4'\n",
    "## To speed up the testing process you may want to try your pipeline on a shorter subclip of the video\n",
    "## To do so add .subclip(start_second,end_second) to the end of the line below\n",
    "## Where start_second and end_second are integer values representing the start and end of the subclip\n",
    "## You may also uncomment the following line for a subclip of the first 5 seconds\n",
    "##clip1 = VideoFileClip(\"test_videos/solidWhiteRight.mp4\").subclip(0,5)\n",
    "clip1 = VideoFileClip('./project_video.mp4')\n",
    "# white_clip = clip1.fl_image(process_image) #NOTE: this function expects color images!!\n",
    "# %time white_clip.write_videofile(white_output, audio=False)\n",
    "fps = 25"
   ]
  },
  {
   "cell_type": "code",
   "execution_count": null,
   "metadata": {
    "scrolled": true
   },
   "outputs": [],
   "source": [
    "new_frames = process_clip(clip1)\n",
    "new_clip = ImageSequenceClip(new_frames, fps=fps)\n",
    "new_clip.write_videofile('./project_video_output2.mp4') "
   ]
  },
  {
   "cell_type": "code",
   "execution_count": null,
   "metadata": {
    "scrolled": true
   },
   "outputs": [],
   "source": [
    "# test code\n",
    "clip2 = VideoFileClip('./project_video.mp4').subclip(20,27)\n",
    "new_frames2 = process_clip(clip2)\n",
    "new_clip = ImageSequenceClip(new_frames2, fps=fps)\n",
    "new_clip.write_videofile('./project_video_output_sub.mp4') "
   ]
  },
  {
   "cell_type": "code",
   "execution_count": null,
   "metadata": {
    "scrolled": false
   },
   "outputs": [],
   "source": [
    "# test code\n",
    "clip3 = VideoFileClip('./project_video.mp4').subclip(25,25.5)\n",
    "for image in clip3.iter_frames(fps=20,dtype='uint8',progress_bar=False):\n",
    "    process_image(image)"
   ]
  },
  {
   "cell_type": "code",
   "execution_count": null,
   "metadata": {},
   "outputs": [],
   "source": []
  }
 ],
 "metadata": {
  "kernelspec": {
   "display_name": "Python 3",
   "language": "python",
   "name": "python3"
  },
  "language_info": {
   "codemirror_mode": {
    "name": "ipython",
    "version": 3
   },
   "file_extension": ".py",
   "mimetype": "text/x-python",
   "name": "python",
   "nbconvert_exporter": "python",
   "pygments_lexer": "ipython3",
   "version": "3.5.2"
  },
  "widgets": {
   "state": {},
   "version": "1.1.2"
  }
 },
 "nbformat": 4,
 "nbformat_minor": 2
}
